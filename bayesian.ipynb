{
 "cells": [
  {
   "cell_type": "code",
   "execution_count": 33,
   "metadata": {},
   "outputs": [],
   "source": [
    "import pandas as pd\n",
    "from sklearn.ensemble import RandomForestClassifier\n",
    "from sklearn.tree import DecisionTreeClassifier\n",
    "from xgboost import XGBClassifier\n",
    "from sklearn.linear_model import LogisticRegression\n",
    "from sklearn.svm import SVC\n",
    "from sklearn.neighbors import KNeighborsClassifier\n",
    "from sklearn.metrics import confusion_matrix\n",
    "import numpy as np\n",
    "import warnings \n",
    "warnings.filterwarnings('ignore') \n",
    "\n",
    "train_df = pd.read_csv('high_level/train.csv')\n",
    "test_df = pd.read_csv('high_level/test.csv')"
   ]
  },
  {
   "cell_type": "code",
   "execution_count": 34,
   "metadata": {},
   "outputs": [],
   "source": [
    "rf_model = RandomForestClassifier(random_state=42)\n",
    "dt_model = DecisionTreeClassifier(random_state=42)\n",
    "xgb_model = XGBClassifier(random_state=42)\n",
    "logreg_model = LogisticRegression(random_state=42)\n",
    "svm_model = SVC(random_state=42)  \n",
    "knn_model = KNeighborsClassifier()"
   ]
  },
  {
   "cell_type": "code",
   "execution_count": 35,
   "metadata": {},
   "outputs": [],
   "source": [
    "def compute_cm(X_train, y_train, X_test, y_test):\n",
    "    cm = []\n",
    "    for i, model in enumerate([rf_model, dt_model, xgb_model, logreg_model, svm_model, knn_model]):\n",
    "        model.fit(X_train, y_train)\n",
    "        y_pred = model.predict(X_test)\n",
    "        cm.append(confusion_matrix(y_test, y_pred))\n",
    "    return cm"
   ]
  },
  {
   "cell_type": "code",
   "execution_count": 36,
   "metadata": {},
   "outputs": [],
   "source": [
    "def compute_probs(cm):\n",
    "    likelihood_probs = []\n",
    "    for m in cm:\n",
    "        likelihood_probs.append(m / m.sum(axis=1, keepdims=True))\n",
    "    return likelihood_probs"
   ]
  },
  {
   "cell_type": "code",
   "execution_count": 37,
   "metadata": {},
   "outputs": [],
   "source": [
    "def bayesian_consensus(prior_prob, l_prob):\n",
    "    return prior_prob[0] * (l_prob[0]) / ((l_prob[0]*prior_prob[0]) + (l_prob[1]*prior_prob[1]))"
   ]
  },
  {
   "cell_type": "code",
   "execution_count": 38,
   "metadata": {},
   "outputs": [],
   "source": [
    "def get_result(prior_probs, labels, likelihood_probs):\n",
    "    for label, prob in zip(labels, likelihood_probs):\n",
    "        if label == \"yes\":\n",
    "            prior_probs[0] = bayesian_consensus(prior_probs, prob[:, 0])\n",
    "            prior_probs[1] = 1 - prior_probs[0]\n",
    "        else:\n",
    "            prior_probs[0] = bayesian_consensus(prior_probs, prob[:, 1])\n",
    "            prior_probs[1] = 1 - prior_probs[0]\n",
    "    return prior_probs"
   ]
  },
  {
   "cell_type": "code",
   "execution_count": 39,
   "metadata": {},
   "outputs": [],
   "source": [
    "def final_result(class_string, class_int):\n",
    "    prior_probs = [0.5, 0.5]\n",
    "    labels = [\"yes\", \"no\", \"yes\", \"no\", \"yes\", \"yes\"]\n",
    "    train_df[class_string] = (train_df['class'] == class_int).astype(dtype=int) \n",
    "    test_df[class_string] = (test_df['class'] == class_int).astype(dtype=int) \n",
    "    X_train, y_train = train_df.iloc[:, 1:-1], train_df[class_string]\n",
    "    X_test, y_test = test_df.iloc[:, 1:-1], test_df[class_string]\n",
    "\n",
    "    cm = compute_cm(X_train, y_train, X_test, y_test)\n",
    "    likelihood_probs = compute_probs(cm)\n",
    "    print(f'Class {class_int}: {get_result(prior_probs, labels, likelihood_probs)}')\n"
   ]
  },
  {
   "cell_type": "code",
   "execution_count": 40,
   "metadata": {},
   "outputs": [
    {
     "name": "stdout",
     "output_type": "stream",
     "text": [
      "Class 0: [np.float64(0.27008684818406514), np.float64(0.7299131518159349)]\n",
      "Class 1: [np.float64(0.2930009844766963), np.float64(0.7069990155233037)]\n",
      "Class 2: [np.float64(0.7185667645386442), np.float64(0.2814332354613558)]\n",
      "Class 3: [np.float64(0.0), np.float64(1.0)]\n",
      "Class 4: [np.float64(0.39160902406174375), np.float64(0.6083909759382562)]\n",
      "Class 5: [np.float64(0.1004642408826373), np.float64(0.8995357591173627)]\n",
      "Class 6: [np.float64(1.0), np.float64(0.0)]\n"
     ]
    }
   ],
   "source": [
    "final_result('class_new', 0)\n",
    "final_result('class_new', 1)\n",
    "final_result('class_new', 2)\n",
    "final_result('class_new', 3)\n",
    "final_result('class_new', 4)\n",
    "final_result('class_new', 5)\n",
    "final_result('class_new', 6)"
   ]
  }
 ],
 "metadata": {
  "kernelspec": {
   "display_name": "Python 3",
   "language": "python",
   "name": "python3"
  },
  "language_info": {
   "codemirror_mode": {
    "name": "ipython",
    "version": 3
   },
   "file_extension": ".py",
   "mimetype": "text/x-python",
   "name": "python",
   "nbconvert_exporter": "python",
   "pygments_lexer": "ipython3",
   "version": "3.13.1"
  }
 },
 "nbformat": 4,
 "nbformat_minor": 2
}
