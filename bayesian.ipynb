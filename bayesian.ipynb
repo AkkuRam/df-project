{
 "cells": [
  {
   "cell_type": "code",
   "execution_count": 269,
   "metadata": {},
   "outputs": [],
   "source": [
    "import pandas as pd\n",
    "from sklearn.ensemble import RandomForestClassifier\n",
    "from sklearn.tree import DecisionTreeClassifier\n",
    "from xgboost import XGBClassifier\n",
    "from sklearn.linear_model import LogisticRegression\n",
    "from sklearn.svm import SVC\n",
    "from sklearn.neighbors import KNeighborsClassifier\n",
    "from sklearn.metrics import confusion_matrix\n",
    "import numpy as np\n",
    "import warnings \n",
    "warnings.filterwarnings('ignore') \n",
    "\n",
    "train_df = pd.read_csv('high_level/train.csv')\n",
    "test_df = pd.read_csv('high_level/test.csv')"
   ]
  },
  {
   "cell_type": "code",
   "execution_count": 270,
   "metadata": {},
   "outputs": [],
   "source": [
    "train_df['class_1'] = (train_df['class'] == 1).astype(dtype=int) \n",
    "test_df['class_1'] = (test_df['class'] == 1).astype(dtype=int) "
   ]
  },
  {
   "cell_type": "code",
   "execution_count": 271,
   "metadata": {},
   "outputs": [],
   "source": [
    "X_train, y_train = train_df.iloc[:, 1:-1], train_df['class_1']\n",
    "X_test, y_test = test_df.iloc[:, 1:-1], test_df['class_1']"
   ]
  },
  {
   "cell_type": "code",
   "execution_count": 272,
   "metadata": {},
   "outputs": [
    {
     "data": {
      "text/plain": [
       "[array([[56,  2],\n",
       "        [ 4, 11]]),\n",
       " array([[49,  9],\n",
       "        [ 6,  9]]),\n",
       " array([[56,  2],\n",
       "        [ 6,  9]]),\n",
       " array([[57,  1],\n",
       "        [ 7,  8]]),\n",
       " array([[56,  2],\n",
       "        [ 7,  8]]),\n",
       " array([[53,  5],\n",
       "        [ 5, 10]])]"
      ]
     },
     "execution_count": 272,
     "metadata": {},
     "output_type": "execute_result"
    }
   ],
   "source": [
    "rf_model = RandomForestClassifier(random_state=42)\n",
    "dt_model = DecisionTreeClassifier(random_state=42)\n",
    "xgb_model = XGBClassifier(random_state=42)\n",
    "logreg_model = LogisticRegression(random_state=42)\n",
    "svm_model = SVC(random_state=42)  \n",
    "knn_model = KNeighborsClassifier()\n",
    "cm = []\n",
    "\n",
    "for i, model in enumerate([rf_model, dt_model, xgb_model, logreg_model, svm_model, knn_model]):\n",
    "    model.fit(X_train, y_train)\n",
    "    y_pred = model.predict(X_test)\n",
    "    cm.append(confusion_matrix(y_test, y_pred))\n",
    "cm"
   ]
  },
  {
   "cell_type": "code",
   "execution_count": 273,
   "metadata": {},
   "outputs": [
    {
     "data": {
      "text/plain": [
       "[array([[0.96551724, 0.03448276],\n",
       "        [0.26666667, 0.73333333]]),\n",
       " array([[0.84482759, 0.15517241],\n",
       "        [0.4       , 0.6       ]]),\n",
       " array([[0.96551724, 0.03448276],\n",
       "        [0.4       , 0.6       ]]),\n",
       " array([[0.98275862, 0.01724138],\n",
       "        [0.46666667, 0.53333333]]),\n",
       " array([[0.96551724, 0.03448276],\n",
       "        [0.46666667, 0.53333333]]),\n",
       " array([[0.9137931 , 0.0862069 ],\n",
       "        [0.33333333, 0.66666667]])]"
      ]
     },
     "execution_count": 273,
     "metadata": {},
     "output_type": "execute_result"
    }
   ],
   "source": [
    "likelihood_probs = []\n",
    "for m in cm:\n",
    "    likelihood_probs.append(m / m.sum(axis=1, keepdims=True))\n",
    "likelihood_probs"
   ]
  },
  {
   "cell_type": "code",
   "execution_count": 274,
   "metadata": {},
   "outputs": [],
   "source": [
    "def bayesian_consensus(prior_prob, l_prob):\n",
    "    return prior_prob[0] * (l_prob[0]) / ((l_prob[0]*prior_prob[0]) + (l_prob[1]*prior_prob[1]))"
   ]
  },
  {
   "cell_type": "code",
   "execution_count": 275,
   "metadata": {},
   "outputs": [],
   "source": [
    "def get_result(prior_probs, labels, likelihood_probs):\n",
    "    for label, prob in zip(labels, likelihood_probs):\n",
    "        if label == \"yes\":\n",
    "            prior_probs[0] = bayesian_consensus(prior_probs, prob[:, 0])\n",
    "            prior_probs[1] = 1 - prior_probs[0]\n",
    "        else:\n",
    "            prior_probs[0] = bayesian_consensus(prior_probs, prob[:, 1])\n",
    "            prior_probs[1] = 1 - prior_probs[0]\n",
    "        print(prior_probs)\n",
    "    return prior_probs"
   ]
  },
  {
   "cell_type": "code",
   "execution_count": 276,
   "metadata": {},
   "outputs": [
    {
     "name": "stdout",
     "output_type": "stream",
     "text": [
      "[np.float64(0.7835820895522387), np.float64(0.21641791044776126)]\n",
      "[np.float64(0.4835738409579367), np.float64(0.5164261590420633)]\n",
      "[np.float64(0.6932741404029479), np.float64(0.3067258595970521)]\n",
      "[np.float64(0.06809270671216418), np.float64(0.9319072932878358)]\n",
      "[np.float64(0.13132264991338433), np.float64(0.8686773500866156)]\n",
      "[np.float64(0.2930009844766963), np.float64(0.7069990155233037)]\n"
     ]
    },
    {
     "data": {
      "text/plain": [
       "[np.float64(0.2930009844766963), np.float64(0.7069990155233037)]"
      ]
     },
     "execution_count": 276,
     "metadata": {},
     "output_type": "execute_result"
    }
   ],
   "source": [
    "prior_probs = [0.5, 0.5]\n",
    "labels = [\"yes\", \"no\", \"yes\", \"no\", \"yes\", \"yes\"]\n",
    "get_result(prior_probs, labels, likelihood_probs)"
   ]
  }
 ],
 "metadata": {
  "kernelspec": {
   "display_name": "Python 3",
   "language": "python",
   "name": "python3"
  },
  "language_info": {
   "codemirror_mode": {
    "name": "ipython",
    "version": 3
   },
   "file_extension": ".py",
   "mimetype": "text/x-python",
   "name": "python",
   "nbconvert_exporter": "python",
   "pygments_lexer": "ipython3",
   "version": "3.13.1"
  }
 },
 "nbformat": 4,
 "nbformat_minor": 2
}
