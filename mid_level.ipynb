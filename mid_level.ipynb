{
 "cells": [
  {
   "cell_type": "markdown",
   "metadata": {},
   "source": [
    "## Mid-level Fusion (Model Predictions)"
   ]
  },
  {
   "cell_type": "code",
   "execution_count": 10,
   "metadata": {},
   "outputs": [
    {
     "data": {
      "text/html": [
       "<div>\n",
       "<style scoped>\n",
       "    .dataframe tbody tr th:only-of-type {\n",
       "        vertical-align: middle;\n",
       "    }\n",
       "\n",
       "    .dataframe tbody tr th {\n",
       "        vertical-align: top;\n",
       "    }\n",
       "\n",
       "    .dataframe thead th {\n",
       "        text-align: right;\n",
       "    }\n",
       "</style>\n",
       "<table border=\"1\" class=\"dataframe\">\n",
       "  <thead>\n",
       "    <tr style=\"text-align: right;\">\n",
       "      <th></th>\n",
       "      <th>color</th>\n",
       "      <th>transparency</th>\n",
       "      <th>0</th>\n",
       "      <th>1</th>\n",
       "      <th>2</th>\n",
       "      <th>3</th>\n",
       "      <th>4</th>\n",
       "    </tr>\n",
       "  </thead>\n",
       "  <tbody>\n",
       "    <tr>\n",
       "      <th>0</th>\n",
       "      <td>6</td>\n",
       "      <td>1</td>\n",
       "      <td>-0.868131</td>\n",
       "      <td>-0.058648</td>\n",
       "      <td>-10.360110</td>\n",
       "      <td>-4.032622</td>\n",
       "      <td>-3.346022</td>\n",
       "    </tr>\n",
       "    <tr>\n",
       "      <th>1</th>\n",
       "      <td>2</td>\n",
       "      <td>2</td>\n",
       "      <td>-7.105060</td>\n",
       "      <td>7.664092</td>\n",
       "      <td>-0.250829</td>\n",
       "      <td>5.811174</td>\n",
       "      <td>-1.396360</td>\n",
       "    </tr>\n",
       "    <tr>\n",
       "      <th>2</th>\n",
       "      <td>8</td>\n",
       "      <td>1</td>\n",
       "      <td>-14.299898</td>\n",
       "      <td>3.806090</td>\n",
       "      <td>1.522773</td>\n",
       "      <td>-1.135559</td>\n",
       "      <td>1.942196</td>\n",
       "    </tr>\n",
       "    <tr>\n",
       "      <th>3</th>\n",
       "      <td>2</td>\n",
       "      <td>2</td>\n",
       "      <td>-14.651859</td>\n",
       "      <td>3.328734</td>\n",
       "      <td>0.908335</td>\n",
       "      <td>-0.478077</td>\n",
       "      <td>0.849805</td>\n",
       "    </tr>\n",
       "    <tr>\n",
       "      <th>4</th>\n",
       "      <td>1</td>\n",
       "      <td>1</td>\n",
       "      <td>-2.777012</td>\n",
       "      <td>6.184749</td>\n",
       "      <td>-5.432848</td>\n",
       "      <td>4.448243</td>\n",
       "      <td>-2.576161</td>\n",
       "    </tr>\n",
       "    <tr>\n",
       "      <th>...</th>\n",
       "      <td>...</td>\n",
       "      <td>...</td>\n",
       "      <td>...</td>\n",
       "      <td>...</td>\n",
       "      <td>...</td>\n",
       "      <td>...</td>\n",
       "      <td>...</td>\n",
       "    </tr>\n",
       "    <tr>\n",
       "      <th>68</th>\n",
       "      <td>4</td>\n",
       "      <td>1</td>\n",
       "      <td>-0.893991</td>\n",
       "      <td>4.208452</td>\n",
       "      <td>4.313613</td>\n",
       "      <td>-7.908278</td>\n",
       "      <td>-3.412764</td>\n",
       "    </tr>\n",
       "    <tr>\n",
       "      <th>69</th>\n",
       "      <td>1</td>\n",
       "      <td>3</td>\n",
       "      <td>1.905486</td>\n",
       "      <td>-13.499845</td>\n",
       "      <td>-5.527972</td>\n",
       "      <td>-2.258222</td>\n",
       "      <td>1.104448</td>\n",
       "    </tr>\n",
       "    <tr>\n",
       "      <th>70</th>\n",
       "      <td>1</td>\n",
       "      <td>1</td>\n",
       "      <td>-2.182473</td>\n",
       "      <td>7.296944</td>\n",
       "      <td>-3.963582</td>\n",
       "      <td>4.686948</td>\n",
       "      <td>-2.024061</td>\n",
       "    </tr>\n",
       "    <tr>\n",
       "      <th>71</th>\n",
       "      <td>3</td>\n",
       "      <td>1</td>\n",
       "      <td>12.648725</td>\n",
       "      <td>6.550588</td>\n",
       "      <td>4.865970</td>\n",
       "      <td>3.174625</td>\n",
       "      <td>0.512949</td>\n",
       "    </tr>\n",
       "    <tr>\n",
       "      <th>72</th>\n",
       "      <td>2</td>\n",
       "      <td>2</td>\n",
       "      <td>-13.589194</td>\n",
       "      <td>1.484485</td>\n",
       "      <td>4.300711</td>\n",
       "      <td>-4.104328</td>\n",
       "      <td>1.244305</td>\n",
       "    </tr>\n",
       "  </tbody>\n",
       "</table>\n",
       "<p>73 rows × 7 columns</p>\n",
       "</div>"
      ],
      "text/plain": [
       "    color  transparency          0          1          2         3         4\n",
       "0       6             1  -0.868131  -0.058648 -10.360110 -4.032622 -3.346022\n",
       "1       2             2  -7.105060   7.664092  -0.250829  5.811174 -1.396360\n",
       "2       8             1 -14.299898   3.806090   1.522773 -1.135559  1.942196\n",
       "3       2             2 -14.651859   3.328734   0.908335 -0.478077  0.849805\n",
       "4       1             1  -2.777012   6.184749  -5.432848  4.448243 -2.576161\n",
       "..    ...           ...        ...        ...        ...       ...       ...\n",
       "68      4             1  -0.893991   4.208452   4.313613 -7.908278 -3.412764\n",
       "69      1             3   1.905486 -13.499845  -5.527972 -2.258222  1.104448\n",
       "70      1             1  -2.182473   7.296944  -3.963582  4.686948 -2.024061\n",
       "71      3             1  12.648725   6.550588   4.865970  3.174625  0.512949\n",
       "72      2             2 -13.589194   1.484485   4.300711 -4.104328  1.244305\n",
       "\n",
       "[73 rows x 7 columns]"
      ]
     },
     "execution_count": 10,
     "metadata": {},
     "output_type": "execute_result"
    }
   ],
   "source": [
    "import pandas as pd\n",
    "\n",
    "train_df = pd.read_csv('preprocessed/train.csv')\n",
    "test_df = pd.read_csv('preprocessed/test.csv')\n",
    "X_train, y_train = train_df.iloc[:, 1:], train_df['class']\n",
    "X_test, y_test = test_df.iloc[:, 1:], test_df['class']\n",
    "X_test"
   ]
  },
  {
   "cell_type": "code",
   "execution_count": 11,
   "metadata": {},
   "outputs": [
    {
     "name": "stdout",
     "output_type": "stream",
     "text": [
      "              precision    recall  f1-score   support\n",
      "\n",
      "           0       0.86      0.80      0.83        15\n",
      "           1       0.85      0.73      0.79        15\n",
      "           2       0.78      0.70      0.74        10\n",
      "           3       0.80      0.80      0.80         5\n",
      "           4       0.69      0.85      0.76        13\n",
      "           5       0.77      0.83      0.80        12\n",
      "           6       0.67      0.67      0.67         3\n",
      "\n",
      "    accuracy                           0.78        73\n",
      "   macro avg       0.77      0.77      0.77        73\n",
      "weighted avg       0.79      0.78      0.78        73\n",
      "\n"
     ]
    }
   ],
   "source": [
    "import xgboost as xgb\n",
    "from sklearn.metrics import classification_report\n",
    "\n",
    "model = xgb.XGBClassifier()\n",
    "model.fit(X_train, y_train)\n",
    "y_pred = model.predict(X_test)\n",
    "print(f'{classification_report(y_test, y_pred)}')"
   ]
  },
  {
   "cell_type": "code",
   "execution_count": 12,
   "metadata": {},
   "outputs": [
    {
     "name": "stdout",
     "output_type": "stream",
     "text": [
      "              precision    recall  f1-score   support\n",
      "\n",
      "           0       0.57      0.53      0.55        15\n",
      "           1       0.75      0.20      0.32        15\n",
      "           2       0.43      0.30      0.35        10\n",
      "           3       0.50      1.00      0.67         5\n",
      "           4       0.38      0.77      0.51        13\n",
      "           5       0.70      0.58      0.64        12\n",
      "           6       0.50      0.33      0.40         3\n",
      "\n",
      "    accuracy                           0.51        73\n",
      "   macro avg       0.55      0.53      0.49        73\n",
      "weighted avg       0.57      0.51      0.48        73\n",
      "\n"
     ]
    }
   ],
   "source": [
    "from sklearn.ensemble import AdaBoostClassifier\n",
    "from sklearn.metrics import classification_report\n",
    "\n",
    "model = AdaBoostClassifier()\n",
    "model.fit(X_train, y_train)\n",
    "y_pred = model.predict(X_test)\n",
    "print(f'{classification_report(y_test, y_pred)}')"
   ]
  },
  {
   "cell_type": "code",
   "execution_count": 13,
   "metadata": {},
   "outputs": [
    {
     "name": "stdout",
     "output_type": "stream",
     "text": [
      "              precision    recall  f1-score   support\n",
      "\n",
      "           0       0.59      0.67      0.62        15\n",
      "           1       0.64      0.60      0.62        15\n",
      "           2       0.73      0.80      0.76        10\n",
      "           3       0.50      0.80      0.62         5\n",
      "           4       0.67      0.62      0.64        13\n",
      "           5       0.70      0.58      0.64        12\n",
      "           6       0.00      0.00      0.00         3\n",
      "\n",
      "    accuracy                           0.63        73\n",
      "   macro avg       0.55      0.58      0.56        73\n",
      "weighted avg       0.62      0.63      0.62        73\n",
      "\n"
     ]
    },
    {
     "name": "stderr",
     "output_type": "stream",
     "text": [
      "C:\\Users\\reach\\AppData\\Local\\Packages\\PythonSoftwareFoundation.Python.3.11_qbz5n2kfra8p0\\LocalCache\\local-packages\\Python311\\site-packages\\sklearn\\neural_network\\_multilayer_perceptron.py:691: ConvergenceWarning: Stochastic Optimizer: Maximum iterations (200) reached and the optimization hasn't converged yet.\n",
      "  warnings.warn(\n"
     ]
    }
   ],
   "source": [
    "from sklearn.neural_network import MLPClassifier as MLP\n",
    "\n",
    "model = MLP()\n",
    "model.fit(X_train, y_train)\n",
    "y_pred = model.predict(X_test)\n",
    "print(f'{classification_report(y_test, y_pred)}')"
   ]
  },
  {
   "cell_type": "code",
   "execution_count": 14,
   "metadata": {},
   "outputs": [
    {
     "name": "stdout",
     "output_type": "stream",
     "text": [
      "              precision    recall  f1-score   support\n",
      "\n",
      "           0       0.71      0.67      0.69        15\n",
      "           1       0.86      0.80      0.83        15\n",
      "           2       0.70      0.70      0.70        10\n",
      "           3       0.62      1.00      0.77         5\n",
      "           4       0.77      0.77      0.77        13\n",
      "           5       0.58      0.58      0.58        12\n",
      "           6       1.00      0.67      0.80         3\n",
      "\n",
      "    accuracy                           0.73        73\n",
      "   macro avg       0.75      0.74      0.73        73\n",
      "weighted avg       0.74      0.73      0.73        73\n",
      "\n"
     ]
    }
   ],
   "source": [
    "from sklearn.ensemble import RandomForestClassifier\n",
    "\n",
    "model = RandomForestClassifier()\n",
    "model.fit(X_train, y_train)\n",
    "y_pred = model.predict(X_test)\n",
    "print(f'{classification_report(y_test, y_pred)}')"
   ]
  }
 ],
 "metadata": {
  "kernelspec": {
   "display_name": "Python 3",
   "language": "python",
   "name": "python3"
  },
  "language_info": {
   "codemirror_mode": {
    "name": "ipython",
    "version": 3
   },
   "file_extension": ".py",
   "mimetype": "text/x-python",
   "name": "python",
   "nbconvert_exporter": "python",
   "pygments_lexer": "ipython3",
   "version": "3.11.9"
  }
 },
 "nbformat": 4,
 "nbformat_minor": 2
}
