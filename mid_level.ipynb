{
 "cells": [
  {
   "cell_type": "markdown",
   "metadata": {},
   "source": [
    "## Mid-level Fusion (Model Predictions)"
   ]
  },
  {
   "cell_type": "code",
   "execution_count": 7,
   "metadata": {},
   "outputs": [
    {
     "data": {
      "text/html": [
       "<div>\n",
       "<style scoped>\n",
       "    .dataframe tbody tr th:only-of-type {\n",
       "        vertical-align: middle;\n",
       "    }\n",
       "\n",
       "    .dataframe tbody tr th {\n",
       "        vertical-align: top;\n",
       "    }\n",
       "\n",
       "    .dataframe thead th {\n",
       "        text-align: right;\n",
       "    }\n",
       "</style>\n",
       "<table border=\"1\" class=\"dataframe\">\n",
       "  <thead>\n",
       "    <tr style=\"text-align: right;\">\n",
       "      <th></th>\n",
       "      <th>color</th>\n",
       "      <th>transparency</th>\n",
       "      <th>0</th>\n",
       "      <th>1</th>\n",
       "      <th>2</th>\n",
       "      <th>3</th>\n",
       "      <th>4</th>\n",
       "    </tr>\n",
       "  </thead>\n",
       "  <tbody>\n",
       "    <tr>\n",
       "      <th>0</th>\n",
       "      <td>6</td>\n",
       "      <td>1</td>\n",
       "      <td>-2.043013</td>\n",
       "      <td>0.441557</td>\n",
       "      <td>-10.860756</td>\n",
       "      <td>-3.164968</td>\n",
       "      <td>-2.893184</td>\n",
       "    </tr>\n",
       "    <tr>\n",
       "      <th>1</th>\n",
       "      <td>2</td>\n",
       "      <td>2</td>\n",
       "      <td>-8.020800</td>\n",
       "      <td>6.470795</td>\n",
       "      <td>2.024457</td>\n",
       "      <td>4.463112</td>\n",
       "      <td>-0.078215</td>\n",
       "    </tr>\n",
       "    <tr>\n",
       "      <th>2</th>\n",
       "      <td>8</td>\n",
       "      <td>1</td>\n",
       "      <td>-14.810728</td>\n",
       "      <td>2.609946</td>\n",
       "      <td>2.524548</td>\n",
       "      <td>-2.195823</td>\n",
       "      <td>2.532447</td>\n",
       "    </tr>\n",
       "    <tr>\n",
       "      <th>3</th>\n",
       "      <td>2</td>\n",
       "      <td>2</td>\n",
       "      <td>-15.245048</td>\n",
       "      <td>2.219877</td>\n",
       "      <td>1.986133</td>\n",
       "      <td>-1.532659</td>\n",
       "      <td>1.228127</td>\n",
       "    </tr>\n",
       "    <tr>\n",
       "      <th>4</th>\n",
       "      <td>1</td>\n",
       "      <td>1</td>\n",
       "      <td>-3.936938</td>\n",
       "      <td>5.715653</td>\n",
       "      <td>-3.566428</td>\n",
       "      <td>3.605013</td>\n",
       "      <td>-1.600008</td>\n",
       "    </tr>\n",
       "    <tr>\n",
       "      <th>...</th>\n",
       "      <td>...</td>\n",
       "      <td>...</td>\n",
       "      <td>...</td>\n",
       "      <td>...</td>\n",
       "      <td>...</td>\n",
       "      <td>...</td>\n",
       "      <td>...</td>\n",
       "    </tr>\n",
       "    <tr>\n",
       "      <th>68</th>\n",
       "      <td>4</td>\n",
       "      <td>1</td>\n",
       "      <td>-1.227553</td>\n",
       "      <td>3.215643</td>\n",
       "      <td>3.540405</td>\n",
       "      <td>-9.473483</td>\n",
       "      <td>-2.678213</td>\n",
       "    </tr>\n",
       "    <tr>\n",
       "      <th>69</th>\n",
       "      <td>1</td>\n",
       "      <td>3</td>\n",
       "      <td>1.554062</td>\n",
       "      <td>-13.052275</td>\n",
       "      <td>-7.119743</td>\n",
       "      <td>-1.630528</td>\n",
       "      <td>1.228246</td>\n",
       "    </tr>\n",
       "    <tr>\n",
       "      <th>70</th>\n",
       "      <td>1</td>\n",
       "      <td>1</td>\n",
       "      <td>-3.289464</td>\n",
       "      <td>6.696609</td>\n",
       "      <td>-2.035899</td>\n",
       "      <td>3.657271</td>\n",
       "      <td>-1.060994</td>\n",
       "    </tr>\n",
       "    <tr>\n",
       "      <th>71</th>\n",
       "      <td>3</td>\n",
       "      <td>1</td>\n",
       "      <td>12.016206</td>\n",
       "      <td>6.037595</td>\n",
       "      <td>5.546349</td>\n",
       "      <td>2.670522</td>\n",
       "      <td>-0.072571</td>\n",
       "    </tr>\n",
       "    <tr>\n",
       "      <th>72</th>\n",
       "      <td>2</td>\n",
       "      <td>2</td>\n",
       "      <td>-13.761800</td>\n",
       "      <td>0.028216</td>\n",
       "      <td>4.538291</td>\n",
       "      <td>-5.525938</td>\n",
       "      <td>2.023096</td>\n",
       "    </tr>\n",
       "  </tbody>\n",
       "</table>\n",
       "<p>73 rows × 7 columns</p>\n",
       "</div>"
      ],
      "text/plain": [
       "    color  transparency          0          1          2         3         4\n",
       "0       6             1  -2.043013   0.441557 -10.860756 -3.164968 -2.893184\n",
       "1       2             2  -8.020800   6.470795   2.024457  4.463112 -0.078215\n",
       "2       8             1 -14.810728   2.609946   2.524548 -2.195823  2.532447\n",
       "3       2             2 -15.245048   2.219877   1.986133 -1.532659  1.228127\n",
       "4       1             1  -3.936938   5.715653  -3.566428  3.605013 -1.600008\n",
       "..    ...           ...        ...        ...        ...       ...       ...\n",
       "68      4             1  -1.227553   3.215643   3.540405 -9.473483 -2.678213\n",
       "69      1             3   1.554062 -13.052275  -7.119743 -1.630528  1.228246\n",
       "70      1             1  -3.289464   6.696609  -2.035899  3.657271 -1.060994\n",
       "71      3             1  12.016206   6.037595   5.546349  2.670522 -0.072571\n",
       "72      2             2 -13.761800   0.028216   4.538291 -5.525938  2.023096\n",
       "\n",
       "[73 rows x 7 columns]"
      ]
     },
     "execution_count": 7,
     "metadata": {},
     "output_type": "execute_result"
    }
   ],
   "source": [
    "import pandas as pd\n",
    "\n",
    "train_df = pd.read_csv('preprocessed/train.csv')\n",
    "test_df = pd.read_csv('preprocessed/test.csv')\n",
    "X_train, y_train = train_df.iloc[:, 1:], train_df['class']\n",
    "X_test, y_test = test_df.iloc[:, 1:], test_df['class']\n",
    "X_test"
   ]
  },
  {
   "cell_type": "code",
   "execution_count": 8,
   "metadata": {},
   "outputs": [
    {
     "name": "stdout",
     "output_type": "stream",
     "text": [
      "Accuracy: 0.726027397260274\n"
     ]
    }
   ],
   "source": [
    "import xgboost as xgb\n",
    "from sklearn.metrics import accuracy_score\n",
    "\n",
    "model = xgb.XGBClassifier()\n",
    "model.fit(X_train, y_train)\n",
    "y_pred = model.predict(X_test)\n",
    "print(f'Accuracy: {accuracy_score(y_test, y_pred)}')"
   ]
  },
  {
   "cell_type": "code",
   "execution_count": 9,
   "metadata": {},
   "outputs": [
    {
     "data": {
      "text/plain": [
       "array([[10,  1,  1,  0,  1,  2,  0],\n",
       "       [ 0, 11,  2,  0,  0,  2,  0],\n",
       "       [ 0,  0,  6,  0,  4,  0,  0],\n",
       "       [ 0,  0,  0,  5,  0,  0,  0],\n",
       "       [ 0,  0,  1,  1, 11,  0,  0],\n",
       "       [ 3,  0,  1,  0,  1,  7,  0],\n",
       "       [ 0,  0,  0,  0,  0,  0,  3]], dtype=int64)"
      ]
     },
     "execution_count": 9,
     "metadata": {},
     "output_type": "execute_result"
    }
   ],
   "source": [
    "from sklearn.metrics import confusion_matrix\n",
    "confusion_matrix(y_test, y_pred)"
   ]
  },
  {
   "cell_type": "code",
   "execution_count": 10,
   "metadata": {},
   "outputs": [
    {
     "name": "stdout",
     "output_type": "stream",
     "text": [
      "(array([0.76923077, 0.91666667, 0.54545455, 0.83333333, 0.64705882,\n",
      "       0.63636364, 1.        ]), array([0.66666667, 0.73333333, 0.6       , 1.        , 0.84615385,\n",
      "       0.58333333, 1.        ]), array([0.71428571, 0.81481481, 0.57142857, 0.90909091, 0.73333333,\n",
      "       0.60869565, 1.        ]), array([15, 15, 10,  5, 13, 12,  3], dtype=int64))\n"
     ]
    }
   ],
   "source": [
    "from sklearn.metrics import precision_recall_fscore_support\n",
    "\n",
    "print(f'{precision_recall_fscore_support(y_test, y_pred)}')"
   ]
  }
 ],
 "metadata": {
  "kernelspec": {
   "display_name": "Python 3",
   "language": "python",
   "name": "python3"
  },
  "language_info": {
   "codemirror_mode": {
    "name": "ipython",
    "version": 3
   },
   "file_extension": ".py",
   "mimetype": "text/x-python",
   "name": "python",
   "nbconvert_exporter": "python",
   "pygments_lexer": "ipython3",
   "version": "3.11.9"
  }
 },
 "nbformat": 4,
 "nbformat_minor": 2
}
