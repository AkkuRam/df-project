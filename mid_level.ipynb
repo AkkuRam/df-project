{
 "cells": [
  {
   "cell_type": "markdown",
   "metadata": {},
   "source": [
    "## Mid-level Fusion (Model Predictions)"
   ]
  },
  {
   "cell_type": "code",
   "execution_count": 2,
   "metadata": {},
   "outputs": [],
   "source": [
    "import pandas as pd\n",
    "\n",
    "train_df = pd.read_csv('preprocessed/train.csv')\n",
    "test_df = pd.read_csv('preprocessed/test.csv')\n",
    "X_train, y_train = train_df.iloc[:, 1:], train_df['class']\n",
    "X_test, y_test = test_df.iloc[:, 1:], test_df['class']"
   ]
  },
  {
   "cell_type": "code",
   "execution_count": 3,
   "metadata": {},
   "outputs": [
    {
     "name": "stdout",
     "output_type": "stream",
     "text": [
      "              precision    recall  f1-score   support\n",
      "\n",
      "           0       0.86      0.80      0.83        15\n",
      "           1       0.85      0.73      0.79        15\n",
      "           2       0.78      0.70      0.74        10\n",
      "           3       0.80      0.80      0.80         5\n",
      "           4       0.69      0.85      0.76        13\n",
      "           5       0.77      0.83      0.80        12\n",
      "           6       0.67      0.67      0.67         3\n",
      "\n",
      "    accuracy                           0.78        73\n",
      "   macro avg       0.77      0.77      0.77        73\n",
      "weighted avg       0.79      0.78      0.78        73\n",
      "\n"
     ]
    }
   ],
   "source": [
    "import xgboost as xgb\n",
    "from sklearn.metrics import classification_report\n",
    "\n",
    "model = xgb.XGBClassifier(random_state=42)\n",
    "model.fit(X_train, y_train)\n",
    "y_pred = model.predict(X_test)\n",
    "print(f'{classification_report(y_test, y_pred)}')"
   ]
  },
  {
   "cell_type": "code",
   "execution_count": 4,
   "metadata": {},
   "outputs": [
    {
     "name": "stdout",
     "output_type": "stream",
     "text": [
      "              precision    recall  f1-score   support\n",
      "\n",
      "           0       0.57      0.53      0.55        15\n",
      "           1       0.75      0.20      0.32        15\n",
      "           2       0.43      0.30      0.35        10\n",
      "           3       0.50      1.00      0.67         5\n",
      "           4       0.38      0.77      0.51        13\n",
      "           5       0.70      0.58      0.64        12\n",
      "           6       0.50      0.33      0.40         3\n",
      "\n",
      "    accuracy                           0.51        73\n",
      "   macro avg       0.55      0.53      0.49        73\n",
      "weighted avg       0.57      0.51      0.48        73\n",
      "\n"
     ]
    }
   ],
   "source": [
    "from sklearn.ensemble import AdaBoostClassifier\n",
    "from sklearn.metrics import classification_report\n",
    "\n",
    "model = AdaBoostClassifier(random_state=42)\n",
    "model.fit(X_train, y_train)\n",
    "y_pred = model.predict(X_test)\n",
    "print(f'{classification_report(y_test, y_pred)}')"
   ]
  },
  {
   "cell_type": "code",
   "execution_count": 5,
   "metadata": {},
   "outputs": [
    {
     "name": "stdout",
     "output_type": "stream",
     "text": [
      "              precision    recall  f1-score   support\n",
      "\n",
      "           0       0.50      0.67      0.57        15\n",
      "           1       0.67      0.53      0.59        15\n",
      "           2       0.67      0.80      0.73        10\n",
      "           3       0.50      0.80      0.62         5\n",
      "           4       0.73      0.62      0.67        13\n",
      "           5       0.67      0.50      0.57        12\n",
      "           6       0.00      0.00      0.00         3\n",
      "\n",
      "    accuracy                           0.60        73\n",
      "   macro avg       0.53      0.56      0.53        73\n",
      "weighted avg       0.60      0.60      0.59        73\n",
      "\n"
     ]
    },
    {
     "name": "stderr",
     "output_type": "stream",
     "text": [
      "C:\\Users\\reach\\AppData\\Roaming\\Python\\Python313\\site-packages\\sklearn\\neural_network\\_multilayer_perceptron.py:691: ConvergenceWarning: Stochastic Optimizer: Maximum iterations (200) reached and the optimization hasn't converged yet.\n",
      "  warnings.warn(\n"
     ]
    }
   ],
   "source": [
    "from sklearn.neural_network import MLPClassifier as MLP\n",
    "\n",
    "model = MLP(random_state=42)\n",
    "model.fit(X_train, y_train)\n",
    "y_pred = model.predict(X_test)\n",
    "print(f'{classification_report(y_test, y_pred)}')"
   ]
  },
  {
   "cell_type": "code",
   "execution_count": 6,
   "metadata": {},
   "outputs": [
    {
     "name": "stdout",
     "output_type": "stream",
     "text": [
      "              precision    recall  f1-score   support\n",
      "\n",
      "           0       0.75      0.60      0.67        15\n",
      "           1       0.80      0.80      0.80        15\n",
      "           2       0.64      0.70      0.67        10\n",
      "           3       0.62      1.00      0.77         5\n",
      "           4       0.71      0.77      0.74        13\n",
      "           5       0.64      0.58      0.61        12\n",
      "           6       1.00      0.67      0.80         3\n",
      "\n",
      "    accuracy                           0.71        73\n",
      "   macro avg       0.74      0.73      0.72        73\n",
      "weighted avg       0.72      0.71      0.71        73\n",
      "\n"
     ]
    }
   ],
   "source": [
    "from sklearn.ensemble import RandomForestClassifier\n",
    "\n",
    "model = RandomForestClassifier(random_state=42)\n",
    "model.fit(X_train, y_train)\n",
    "y_pred = model.predict(X_test)\n",
    "print(f'{classification_report(y_test, y_pred)}')"
   ]
  }
 ],
 "metadata": {
  "kernelspec": {
   "display_name": "Python 3",
   "language": "python",
   "name": "python3"
  },
  "language_info": {
   "codemirror_mode": {
    "name": "ipython",
    "version": 3
   },
   "file_extension": ".py",
   "mimetype": "text/x-python",
   "name": "python",
   "nbconvert_exporter": "python",
   "pygments_lexer": "ipython3",
   "version": "3.13.1"
  }
 },
 "nbformat": 4,
 "nbformat_minor": 2
}
